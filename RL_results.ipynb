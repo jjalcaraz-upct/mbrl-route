{
 "cells": [
  {
   "cell_type": "markdown",
   "metadata": {},
   "source": [
    "# RVRP RL Results"
   ]
  },
  {
   "cell_type": "code",
   "execution_count": 1,
   "metadata": {},
   "outputs": [],
   "source": [
    "import numpy as np\n",
    "from scipy import stats\n",
    "import pickle\n",
    "import matplotlib.pyplot as plt\n",
    "%matplotlib inline"
   ]
  },
  {
   "cell_type": "code",
   "execution_count": 8,
   "metadata": {},
   "outputs": [],
   "source": [
    "def compare_routes(n_bins = 30, width = 10, height = 12):\n",
    "    n_algos = 3\n",
    "    fig = plt.figure(figsize=(height, width), constrained_layout=True)\n",
    "    gs0 = fig.add_gridspec(3,2)\n",
    "    gs00 = gs0[0,0].subgridspec(n_algos,1, hspace=0)\n",
    "    gs01 = gs0[0,1].subgridspec(n_algos,1, hspace=0)\n",
    "    gs10 = gs0[1,0].subgridspec(n_algos,1, hspace=0)\n",
    "    gs11 = gs0[1,1].subgridspec(n_algos,1, hspace=0)\n",
    "    gs20 = gs0[2,0].subgridspec(n_algos,1, hspace=0)\n",
    "    gs21 = gs0[2,1].subgridspec(n_algos,1, hspace=0)\n",
    "    subgrids = [gs00, gs01, gs10, gs11, gs20, gs21]\n",
    "    axes = []\n",
    "\n",
    "    routes = [1,2,3,4,5,6]\n",
    "    ticks = [5, 5, 2, 4, 2.5, 2]\n",
    "    y_limits = [200, 200, 210, 202, 210, 100]\n",
    "    \n",
    "    file_name_RL = './results/RL_results.pickle'\n",
    "    file_name_DQN = './results/DQN_results.pickle'\n",
    "    file_name_baseline = './results/baseline_results.pickle'\n",
    "\n",
    "    for i, route in enumerate(routes):\n",
    "        with open(file_name_RL, 'rb') as f:\n",
    "            RL_results = pickle.load(f)\n",
    "        with open(file_name_DQN, 'rb') as f:\n",
    "            DQN_results = pickle.load(f)\n",
    "        with open(file_name_baseline, 'rb') as f:\n",
    "            rollout_results = pickle.load(f)\n",
    "        a = RL_results[route]\n",
    "        b = DQN_results[route]\n",
    "        c = rollout_results[route]\n",
    "\n",
    "        # statistics\n",
    "        mean_a = np.mean(a)\n",
    "        mean_b = np.mean(b)\n",
    "        mean_c = np.mean(c)\n",
    "        var_a = np.var(a)\n",
    "        var_b = np.var(b)\n",
    "        var_c = np.var(c)\n",
    "        _, p_value = stats.ttest_ind(a,b)\n",
    "\n",
    "        print('ROUTE = {}'.format(route))\n",
    "\n",
    "        print('RL mean = {}, variance = {}'.format(mean_a, var_a))\n",
    "        print('DQN mean = {}, variance = {}, p_value = {}'.format(mean_b, var_b, p_value/2))\n",
    "        \n",
    "        _, p_value = stats.ttest_ind(a,c)\n",
    "\n",
    "        print('rollout mean = {}, variance = {}, p_value = {}'.format(mean_c, var_c, p_value/2))\n",
    "\n",
    "        print('-------------------------------------------')\n",
    "        \n",
    "        #  plot\n",
    "        \n",
    "        x_max = max(max(a), max(b),max(c))\n",
    "        bins = np.linspace(0, x_max, n_bins)\n",
    "\n",
    "        # new_RL_ax \n",
    "        axes.append(fig.add_subplot(subgrids[i][0]))\n",
    "        axes[-1].grid(zorder=0, linestyle='--')\n",
    "        axes[-1].hist(a, bins, histtype='bar', label = ['rollout'], zorder=3, color = \"blue\", lw=1)\n",
    "        axes[-1].set_title('Route {}'.format(route)) \n",
    "        axes[-1].set_xticks(np.arange(0,x_max,ticks[i]))\n",
    "        axes[-1].set_ylim([0, y_limits[i]])\n",
    "        axes[-1].set_ylabel('Runs')\n",
    "        axes[-1].set_xticklabels([])\n",
    "        axes[-1].label_outer()\n",
    "        axes[-1].legend(prop={'size': 10})\n",
    "        \n",
    "        # new_DQN_ax \n",
    "        axes.append(fig.add_subplot(subgrids[i][1]))\n",
    "        axes[-1].grid(zorder=0, linestyle='--')\n",
    "        _, _, _ = axes[-1].hist(b, bins, histtype='bar', label = ['DQN'], zorder=3, color = \"orange\", lw=1)\n",
    "        axes[-1].set_xticks(np.arange(0,x_max,ticks[i]))\n",
    "        axes[-1].set_ylim([0, y_limits[i]])\n",
    "        axes[-1].set_ylabel('Runs')\n",
    "        axes[-1].set_xticklabels([])\n",
    "        axes[-1].label_outer()\n",
    "        axes[-1].legend(prop={'size': 10})\n",
    "        \n",
    "        # new_B_ax \n",
    "        axes.append(fig.add_subplot(subgrids[i][2]))\n",
    "        axes[-1].grid(zorder=0, linestyle='--')\n",
    "        _, _, _ = axes[-1].hist(c, bins, histtype='bar', label = ['base policy'], zorder=3, color = \"green\", lw=1)\n",
    "        axes[-1].set_xticks(np.arange(0,x_max,ticks[i]))\n",
    "        axes[-1].set_ylim([0, y_limits[i]])\n",
    "        axes[-1].set_ylabel('Runs')\n",
    "        axes[-1].set_xlabel('Cost')\n",
    "        axes[-1].legend(prop={'size': 10})\n",
    "        \n",
    "    fig.tight_layout()\n",
    "    plt.show()\n",
    "    fig.savefig('histograms.eps', format='eps')"
   ]
  },
  {
   "cell_type": "code",
   "execution_count": null,
   "metadata": {},
   "outputs": [],
   "source": [
    "compare_routes()"
   ]
  }
 ],
 "metadata": {
  "interpreter": {
   "hash": "f8e0a03a2777875f3d8be9b6f889dd2a7907dc4902fe20b489ad8098a17f410f"
  },
  "kernelspec": {
   "display_name": "Python 3.6.9 64-bit ('RL_lite': conda)",
   "name": "python3"
  },
  "language_info": {
   "codemirror_mode": {
    "name": "ipython",
    "version": 3
   },
   "file_extension": ".py",
   "mimetype": "text/x-python",
   "name": "python",
   "nbconvert_exporter": "python",
   "pygments_lexer": "ipython3",
   "version": "3.6.9"
  },
  "orig_nbformat": 2
 },
 "nbformat": 4,
 "nbformat_minor": 2
}
